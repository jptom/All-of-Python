{
 "cells": [
  {
   "cell_type": "markdown",
   "metadata": {},
   "source": [
    "# Python のループ処理"
   ]
  },
  {
   "cell_type": "markdown",
   "metadata": {},
   "source": [
    "## while文\n",
    "pythonのwhile文はこのように書くことができます。\n",
    "```python\n",
    "while 条件式:\n",
    "    処理\n",
    "```\n",
    "通常にループを終了したとき else を使って処理を追加することができます。"
   ]
  },
  {
   "cell_type": "code",
   "execution_count": 3,
   "metadata": {},
   "outputs": [
    {
     "name": "stdout",
     "output_type": "stream",
     "text": [
      "some process\n",
      "some process\n",
      "some process\n"
     ]
    }
   ],
   "source": [
    "i = 0\n",
    "while i<3:\n",
    "    print(\"some process\")\n",
    "    i += 1"
   ]
  },
  {
   "cell_type": "markdown",
   "metadata": {},
   "source": [
    "無限ループは以下のように書きます。  \n",
    "また途中で終了したい場合 break を使います。その場合 else の処理は行われません。  \n",
    "もし次回のループにスキップしたい場合は continue を使います。  "
   ]
  },
  {
   "cell_type": "code",
   "execution_count": 6,
   "metadata": {},
   "outputs": [
    {
     "name": "stdout",
     "output_type": "stream",
     "text": [
      "some process\n",
      "some process\n"
     ]
    }
   ],
   "source": [
    "i  = 0\n",
    "while True:\n",
    "    if i==0:\n",
    "        i += 1\n",
    "        continue\n",
    "    print(\"some process\")\n",
    "    i += 1\n",
    "    if i==3:\n",
    "        break"
   ]
  },
  {
   "cell_type": "markdown",
   "metadata": {},
   "source": [
    "## for文"
   ]
  },
  {
   "cell_type": "code",
   "execution_count": null,
   "metadata": {},
   "outputs": [],
   "source": []
  }
 ],
 "metadata": {
  "kernelspec": {
   "display_name": "Python 3",
   "language": "python",
   "name": "python3"
  },
  "language_info": {
   "codemirror_mode": {
    "name": "ipython",
    "version": 3
   },
   "file_extension": ".py",
   "mimetype": "text/x-python",
   "name": "python",
   "nbconvert_exporter": "python",
   "pygments_lexer": "ipython3",
   "version": "3.7.1"
  }
 },
 "nbformat": 4,
 "nbformat_minor": 2
}
